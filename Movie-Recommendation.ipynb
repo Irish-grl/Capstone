{
 "cells": [
  {
   "cell_type": "code",
   "execution_count": 1,
   "id": "fadc4713",
   "metadata": {},
   "outputs": [],
   "source": [
    "import warnings\n",
    "warnings.filterwarnings('ignore')\n",
    "\n",
    "import ipywidgets as widgets\n",
    "from IPython.display import display, clear_output\n",
    "#importing Libraries for data analysis\n",
    "import pandas as pd\n",
    "import numpy as np\n",
    "import matplotlib.pyplot as plt\n",
    "from IPython.display import display\n",
    "from sklearn.metrics.pairwise import cosine_similarity\n",
    "from sklearn.feature_extraction.text import CountVectorizer"
   ]
  },
  {
   "cell_type": "code",
   "execution_count": 2,
   "id": "4e4fa205",
   "metadata": {},
   "outputs": [],
   "source": [
    "#!jupyter nbextension install --sys-prefix --symlink --overwrite --py voila-gridstack\n",
    "#!jupyter serverextension enable voila --sys-prefix"
   ]
  },
  {
   "cell_type": "code",
   "execution_count": 3,
   "id": "7ac8ae16",
   "metadata": {},
   "outputs": [],
   "source": [
    "#load dataset\n",
    "df = pd.read_csv(\"top_1000_movies.csv\")\n",
    "columns = ['Movie_id', 'Series_Title', 'Genre', 'IMDB_Rating','Director', 'Star1', 'Star2', 'Star3', 'Star4']\n",
    "movie_list = df['Series_Title']"
   ]
  },
  {
   "cell_type": "code",
   "execution_count": 4,
   "id": "2dd96608",
   "metadata": {},
   "outputs": [],
   "source": [
    "def get_important_features(data):\n",
    "    important_features = []\n",
    "    for i in range(0, data.shape[0]):\n",
    "        important_features.append(data['Series_Title'][i] + ' ' + data['Genre'][i] + ' ' + str(data['IMDB_Rating'][i])  + ' ' \n",
    "                                  + data['Director'][i] + ' ' + data['Star1'][i]+ ' ' + data['Star2'][i]+ ' ' \n",
    "                                  + data['Star3'][i]+ ' ' + data['Star4'][i])\n",
    "    return important_features"
   ]
  },
  {
   "cell_type": "code",
   "execution_count": 5,
   "id": "84a5b122",
   "metadata": {},
   "outputs": [],
   "source": [
    "def movie_rec(movie_name):\n",
    "    df = pd.read_csv(\"top_1000_movies.csv\")\n",
    "    df['important_features'] = get_important_features(df)\n",
    "    cm = CountVectorizer().fit_transform(df['important_features'])\n",
    "    cs = cosine_similarity(cm)\n",
    "    movie_id = df[df.Series_Title == movie_name]['Movie_id'].values[0]\n",
    "    scores = list(enumerate(cs[movie_id]))\n",
    "    sorted_scores = sorted(scores, key = lambda x:x[1], reverse = True)\n",
    "    sorted_scores = sorted_scores[1:]\n",
    "    \n",
    "    j = 0\n",
    "    print('If you liked', movie_name, ' you might also be interested in these 10 movies:\\n')\n",
    "\n",
    "    for items in sorted_scores:\n",
    "        movie_title = df[df.Movie_id == items[0]]['Series_Title'].values[0]\n",
    "        print(j+1, movie_title)\n",
    "        j = j+1\n",
    "        if j > 9:\n",
    "            break\n",
    "def rating_calc(rating):\n",
    "    average = 0\n",
    "    for i in range(len(rating)):\n",
    "        average = rating[i] + average\n",
    "    average = average/len(rating)\n",
    "    rounded = round(average, 2)\n",
    "    print('The current rating of the movie recommendation system based on user feedback is ' + str(rounded))"
   ]
  },
  {
   "cell_type": "code",
   "execution_count": 6,
   "id": "469d362b",
   "metadata": {
    "scrolled": false
   },
   "outputs": [
    {
     "data": {
      "application/vnd.jupyter.widget-view+json": {
       "model_id": "4389e1d678404c8a819431a76cb9e579",
       "version_major": 2,
       "version_minor": 0
      },
      "text/plain": [
       "HTML(value='<h1>Movie Recommendation System(Predictive Model)</h1>')"
      ]
     },
     "metadata": {},
     "output_type": "display_data"
    },
    {
     "data": {
      "application/vnd.jupyter.widget-view+json": {
       "model_id": "8c5d69d2ecd04674a57e0fb4d7bd5347",
       "version_major": 2,
       "version_minor": 0
      },
      "text/plain": [
       "HTML(value=\"<a href='#GenreDist' color:Blue>Genre Distribution</a> | <a href='#TopDirector' color:Blue>Top 10 …"
      ]
     },
     "metadata": {},
     "output_type": "display_data"
    },
    {
     "data": {
      "application/vnd.jupyter.widget-view+json": {
       "model_id": "e03643e320f74bf79debb3cba4c4ba17",
       "version_major": 2,
       "version_minor": 0
      },
      "text/plain": [
       "HTML(value='<p>To use the movie recommendation below, please select a movie from the list. After your selectio…"
      ]
     },
     "metadata": {},
     "output_type": "display_data"
    },
    {
     "data": {
      "application/vnd.jupyter.widget-view+json": {
       "model_id": "3a36f8a61f414487b3b1893d1edf1feb",
       "version_major": 2,
       "version_minor": 0
      },
      "text/plain": [
       "Dropdown(description='Pick a Movie: ', layout=Layout(width='500px'), options=('The Shawshank Redemption', 'The…"
      ]
     },
     "metadata": {},
     "output_type": "display_data"
    },
    {
     "data": {
      "application/vnd.jupyter.widget-view+json": {
       "model_id": "201794067e934ec5b9a47a3b9af7769d",
       "version_major": 2,
       "version_minor": 0
      },
      "text/plain": [
       "Output()"
      ]
     },
     "metadata": {},
     "output_type": "display_data"
    }
   ],
   "source": [
    "\n",
    "label_headline = widgets.HTML(value=\"<h1>Movie Recommendation System(Predictive Model)</h1>\")\n",
    "label_explaination = widgets.HTML(value=\"<p>To use the movie recommendation below, please select a movie from the list. After your selection, you will the top five movies similar to your selection. </p>\")\n",
    "jump = widgets.HTML(value = \"<a href='#GenreDist' color:Blue>Genre Distribution</a> | <a href='#TopDirector' color:Blue>Top 10 Directors</a> | <a href='#IMDB' color:Blue>IMDB Rating Vs. Meta Score</a>\")\n",
    "choose_movie = widgets.Dropdown(layout={'width': '500px'},\n",
    "    options= df['Series_Title'],\n",
    "    value= None ,\n",
    "    description='Pick a Movie: ',\n",
    ")\n",
    "rating = []\n",
    "display(label_headline)\n",
    "display(jump)\n",
    "display(label_explaination)\n",
    "display(choose_movie)\n",
    "output = widgets.Output()\n",
    "display(output)\n",
    "\n",
    "@output.capture()\n",
    "def on_change(change):\n",
    "    if change['name'] == 'value' and (change['new'] != change['old']):\n",
    "        clear_output()\n",
    "        movie_rec(change['new'])\n",
    "        \n",
    "        \n",
    "\n",
    "choose_movie.observe(on_change)\n",
    "\n",
    "\n",
    "\n"
   ]
  },
  {
   "cell_type": "code",
   "execution_count": 1,
   "id": "90899ec0",
   "metadata": {},
   "outputs": [
    {
     "ename": "NameError",
     "evalue": "name 'widgets' is not defined",
     "output_type": "error",
     "traceback": [
      "\u001b[1;31m---------------------------------------------------------------------------\u001b[0m",
      "\u001b[1;31mNameError\u001b[0m                                 Traceback (most recent call last)",
      "\u001b[1;32m<ipython-input-1-56de8ab4ccf1>\u001b[0m in \u001b[0;36m<module>\u001b[1;34m\u001b[0m\n\u001b[1;32m----> 1\u001b[1;33m \u001b[0mrating_headline\u001b[0m \u001b[1;33m=\u001b[0m \u001b[0mwidgets\u001b[0m\u001b[1;33m.\u001b[0m\u001b[0mHTML\u001b[0m\u001b[1;33m(\u001b[0m\u001b[0mvalue\u001b[0m\u001b[1;33m=\u001b[0m\u001b[1;34m\"<h1>Rating System (Machine Learning Algorithm Accuracy Tracker)</h1>\"\u001b[0m\u001b[1;33m)\u001b[0m\u001b[1;33m\u001b[0m\u001b[1;33m\u001b[0m\u001b[0m\n\u001b[0m\u001b[0;32m      2\u001b[0m \u001b[0mrating_explaination\u001b[0m \u001b[1;33m=\u001b[0m \u001b[0mwidgets\u001b[0m\u001b[1;33m.\u001b[0m\u001b[0mHTML\u001b[0m\u001b[1;33m(\u001b[0m\u001b[0mvalue\u001b[0m\u001b[1;33m=\u001b[0m\u001b[1;34m\"<p>The dropbox below is an example of the accuracy tracking function for the movie recommendation system. It records user feedback from their recommendation ratings, and then calculate the average. </p>\"\u001b[0m\u001b[1;33m)\u001b[0m\u001b[1;33m\u001b[0m\u001b[1;33m\u001b[0m\u001b[0m\n\u001b[0;32m      3\u001b[0m \u001b[1;33m\u001b[0m\u001b[0m\n\u001b[0;32m      4\u001b[0m feedback = widgets.Dropdown(layout={'width': '200px'},\n\u001b[0;32m      5\u001b[0m     \u001b[0moptions\u001b[0m\u001b[1;33m=\u001b[0m \u001b[1;33m[\u001b[0m\u001b[1;36m1\u001b[0m\u001b[1;33m,\u001b[0m \u001b[1;36m2\u001b[0m\u001b[1;33m,\u001b[0m \u001b[1;36m3\u001b[0m\u001b[1;33m,\u001b[0m \u001b[1;36m4\u001b[0m\u001b[1;33m,\u001b[0m \u001b[1;36m5\u001b[0m\u001b[1;33m]\u001b[0m\u001b[1;33m,\u001b[0m\u001b[1;33m\u001b[0m\u001b[1;33m\u001b[0m\u001b[0m\n",
      "\u001b[1;31mNameError\u001b[0m: name 'widgets' is not defined"
     ]
    }
   ],
   "source": [
    "rating_headline = widgets.HTML(value=\"<h1>Rating System (Machine Learning Algorithm Accuracy Tracker)</h1>\")\n",
    "rating_explaination = widgets.HTML(value=\"<p>The dropbox below is an example of the accuracy tracking function for the movie recommendation system. It records user feedback from their recommendation ratings, and then calculate the average. </p>\")\n",
    "\n",
    "feedback = widgets.Dropdown(layout={'width': '200px'},\n",
    "    options= [1, 2, 3, 4, 5],\n",
    "    value= None ,\n",
    "    description='Rate Us: ',\n",
    ")\n",
    "display(rating_headline)\n",
    "display(rating_explaination)\n",
    "display(feedback)\n",
    "output = widgets.Output()\n",
    "display(output)\n",
    "\n",
    "@output.capture()\n",
    "def on_change(change):\n",
    "    if change['name'] == 'value' and (change['new'] != change['old']):\n",
    "        clear_output()\n",
    "        rating.append(change['new'])\n",
    "        rating_calc(rating)\n",
    "\n",
    "feedback.observe(on_change)"
   ]
  },
  {
   "cell_type": "code",
   "execution_count": 8,
   "id": "91fd6be6",
   "metadata": {},
   "outputs": [
    {
     "data": {
      "application/vnd.jupyter.widget-view+json": {
       "model_id": "776027d0da8e46ebb2537d1542df2825",
       "version_major": 2,
       "version_minor": 0
      },
      "text/plain": [
       "HTML(value=\"<a id='GenreDist'></a><h2>Genre Distribution</h2>\")"
      ]
     },
     "metadata": {},
     "output_type": "display_data"
    },
    {
     "data": {
      "application/vnd.jupyter.widget-view+json": {
       "model_id": "2b2c698ba99b48f7b9333a42a40983ee",
       "version_major": 2,
       "version_minor": 0
      },
      "text/plain": [
       "HTML(value='<p>The graph below contains the genre distribution of the movies currently on the database. In the…"
      ]
     },
     "metadata": {},
     "output_type": "display_data"
    },
    {
     "data": {
      "image/png": "[encoded data removed]",
      "text/plain": [
       "<Figure size 1512x1080 with 1 Axes>"
      ]
     },
     "metadata": {
      "needs_background": "light"
     },
     "output_type": "display_data"
    }
   ],
   "source": [
    "label_headline2 = widgets.HTML(value=\"<a id='GenreDist'></a><h2>Genre Distribution</h2>\")\n",
    "label_explaination2 = widgets.HTML(value=\"<p>The graph below contains the genre distribution of the movies currently on the database. In the future it could be used to determine what genres needed to be added to our streaming services so the distribution is not skewed. So that our services can appeal to a wider audience. </p>\")\n",
    "\n",
    "display(label_headline2)\n",
    "display(label_explaination2)\n",
    "dummy = df['Genre'].str.get_dummies(sep=', ')\n",
    "genre_distribution = dummy.sum().sort_values(ascending=False).index.values\n",
    "genre_count = dummy.sum().sort_values(ascending=False).values\n",
    "fig, (ax1) = plt.subplots(figsize=(21, 15))\n",
    "ax1 = plt.bar(genre_distribution, genre_count)"
   ]
  },
  {
   "cell_type": "code",
   "execution_count": 9,
   "id": "16520c2c",
   "metadata": {
    "scrolled": false
   },
   "outputs": [
    {
     "data": {
      "application/vnd.jupyter.widget-view+json": {
       "model_id": "272e130c767a4ff5b4227ba990ce941a",
       "version_major": 2,
       "version_minor": 0
      },
      "text/plain": [
       "HTML(value=\"<a id='TopDirector'></a><h2>Top 10 Directors by Gross Earnings</h2>\")"
      ]
     },
     "metadata": {},
     "output_type": "display_data"
    },
    {
     "data": {
      "application/vnd.jupyter.widget-view+json": {
       "model_id": "48788716006b45fb87c752124b5c43c2",
       "version_major": 2,
       "version_minor": 0
      },
      "text/plain": [
       "HTML(value='<p>The graph below contains the top 10 directors based on their movies gross earnings. </p>')"
      ]
     },
     "metadata": {},
     "output_type": "display_data"
    },
    {
     "data": {
      "text/plain": [
       "Text(0.5, 1.0, 'Top 10 Directors Gross Earnings')"
      ]
     },
     "execution_count": 9,
     "metadata": {},
     "output_type": "execute_result"
    },
    {
     "data": {
      "image/png": "[encoded data removed]",
      "text/plain": [
       "<Figure size 1080x864 with 1 Axes>"
      ]
     },
     "metadata": {
      "needs_background": "light"
     },
     "output_type": "display_data"
    }
   ],
   "source": [
    "label_headline3 = widgets.HTML(value=\"<a id='TopDirector'></a><h2>Top 10 Directors by Gross Earnings</h2>\")\n",
    "label_explaination3 = widgets.HTML(value=\"<p>The graph below contains the top 10 directors based on their movies gross earnings. </p>\")\n",
    "\n",
    "display(label_headline3)\n",
    "display(label_explaination3)\n",
    "gross_by_director = df['Gross'].groupby(df['Director']).sum().sort_values(ascending=False).head(10)\n",
    "gross_by_director.plot.bar(figsize=(15, 12))\n",
    "plt.xlabel(\"Directors\")\n",
    "plt.ylabel(\"Movie gross earning in billions\")\n",
    "plt.title('Top 10 Directors Gross Earnings')\n"
   ]
  },
  {
   "cell_type": "code",
   "execution_count": 10,
   "id": "bc156016",
   "metadata": {},
   "outputs": [
    {
     "data": {
      "application/vnd.jupyter.widget-view+json": {
       "model_id": "18bc56bced944b2ba196154d2667f708",
       "version_major": 2,
       "version_minor": 0
      },
      "text/plain": [
       "HTML(value=\"<a id='IMDB'></a><h2>IMDB Rating Vs. Meta Score by Gross Earnings  </h2>\")"
      ]
     },
     "metadata": {},
     "output_type": "display_data"
    },
    {
     "data": {
      "application/vnd.jupyter.widget-view+json": {
       "model_id": "6ba8fd90df97428f8c089217032736b8",
       "version_major": 2,
       "version_minor": 0
      },
      "text/plain": [
       "HTML(value='<p>The graph below compares the top 10 movies based on Meta scores and IMDB rating to their gross …"
      ]
     },
     "metadata": {},
     "output_type": "display_data"
    },
    {
     "data": {
      "text/plain": [
       "<matplotlib.legend.Legend at 0x1cb5b538>"
      ]
     },
     "execution_count": 10,
     "metadata": {},
     "output_type": "execute_result"
    },
    {
     "data": {
      "image/png": "[encoded data removed]",
      "text/plain": [
       "<Figure size 1080x864 with 1 Axes>"
      ]
     },
     "metadata": {
      "needs_background": "light"
     },
     "output_type": "display_data"
    }
   ],
   "source": [
    "label_headline4 = widgets.HTML(value=\"<a id='IMDB'></a><h2>IMDB Rating Vs. Meta Score by Gross Earnings  </h2>\")\n",
    "label_explaination4 = widgets.HTML(value=\"<p>The graph below compares the top 10 movies based on Meta scores and IMDB rating to their gross earnings. </p>\")\n",
    "display(label_headline4)\n",
    "display(label_explaination4)\n",
    "\n",
    "gross_by_imdb_key = df['Gross'].groupby(df['IMDB_Rating']).sum().sort_values(ascending=False).head(10).index.values\n",
    "gross_by_meta_key = df['Gross'].groupby(df['Meta_score']).sum().sort_values(ascending=False).head(10).index.values\n",
    "gross_by_imdb = df['Gross'].groupby(df['IMDB_Rating']).sum().sort_values(ascending=False).head(10).values\n",
    "gross_by_meta = df['Gross'].groupby(df['Meta_score']).sum().sort_values(ascending=False).head(10).values\n",
    "\n",
    "\n",
    "bar_width = 0.2\n",
    "fig, ax = plt.subplots(figsize=(15, 12))\n",
    "summer = ax.bar(gross_by_imdb_key, gross_by_imdb, bar_width,label=\"IMDB Score\")\n",
    "\n",
    "Winter = ax.bar(gross_by_meta_key/10, gross_by_meta, bar_width,label=\"Meta Score\")\n",
    "ax.set_xlabel('Normalized Score')\n",
    "ax.set_ylabel('Gross Earnings in Billions')\n",
    "ax.set_title('Gross Earnings: Meta Score vs IMDB Score')\n",
    "ax.legend()"
   ]
  },
  {
   "cell_type": "code",
   "execution_count": null,
   "id": "48a4b9a5",
   "metadata": {},
   "outputs": [],
   "source": []
  },
  {
   "cell_type": "code",
   "execution_count": null,
   "id": "b6ed6a76",
   "metadata": {},
   "outputs": [],
   "source": []
  }
 ],
 "metadata": {
  "kernelspec": {
   "display_name": "Python 3",
   "language": "python",
   "name": "python3"
  },
  "language_info": {
   "codemirror_mode": {
    "name": "ipython",
    "version": 3
   },
   "file_extension": ".py",
   "mimetype": "text/x-python",
   "name": "python",
   "nbconvert_exporter": "python",
   "pygments_lexer": "ipython3",
   "version": "3.8.10"
  }
 },
 "nbformat": 4,
 "nbformat_minor": 5
}
